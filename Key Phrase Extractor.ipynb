{
 "cells": [
  {
   "cell_type": "markdown",
   "metadata": {},
   "source": [
    "## Key Phrase Extraction \n",
    "\n",
    "This is based on the paper \"TopicRank: Graph-Based Topic Ranking for Keyphrase Extraction\" by Bougouin, et al with slight modification by myself. "
   ]
  },
  {
   "cell_type": "code",
   "execution_count": 1,
   "metadata": {},
   "outputs": [],
   "source": [
    "import nltk\n",
    "from nltk.corpus import stopwords\n",
    "from nltk.tokenize import word_tokenize"
   ]
  },
  {
   "cell_type": "markdown",
   "metadata": {},
   "source": [
    "# CNN Article on Urban Meyer and Domestic Abuse by an Assistant Coach"
   ]
  },
  {
   "cell_type": "code",
   "execution_count": 50,
   "metadata": {},
   "outputs": [
    {
     "data": {
      "text/plain": [
       "'Ohio State University placed its head football coach, Urban Meyer, on paid administrative leave on Wednesday as it investigates whether he was aware of domestic violence allegations against fired assistant coach Zach Smith.\\n\"The university is conducting an investigation into these allegations,\" Ohio State said. Ryan Day, who has been the team\\'s offensive coordinator, will be acting head football coach while Meyer is on leave. \\n\"We are focused on supporting our players and on getting to the truth as expeditiously as possible,\" the university said. \\nMeyer said in a statement that he and Gene Smith, Ohio State\\'s athletic director, \"agree that being on leave during this inquiry will facilitate its completion. This allows the team to conduct training camp with minimal distraction. I eagerly look forward to the reAt issue is whether Meyer knew about domestic violence allegations against Zach Smith made by his ex-wife, Courtney Smith. Zach Smith was the team\\'s wide receivers\\' coach. \\nZach Smith was fired on July 23 after he was served a civil protection order on behalf of Courtney Smith. The order, which was signed July 20, is effective until 2023 and prohibits Zach Smith from going within 500 feet of his ex-wife. \\nIn a July 23 Facebook post, college football reporter Brett McMurphy detailed a series of domestic violence allegations against Smith dating back to 2009 and 2015. \\nThe day after Smith was fired, Meyer was asked about the allegations during the Big Ten Conference Football Media Day. \\nMeyer said he was aware of an incident involving Zach and Courtney Smith in 2009, while they were still married. Meyer said he and his wife, Shelley Meyer, \"actually both got involved because of our relationship with that family and advised counseling and wanted to help as we moved forward.\" \\nMeyer said he didn\\'t know anything about the 2015 incident involving the Smiths. \\nWhen Meyer was asked about the protection order filed against Smith, the coach said the firing decision had \"a little bit\" to do with that and that it was a \"group effort\" to come to that decision. \\nCourtney Smith told Stadium, a sports network, that she told Meyer\\'s wife in 2015 about the alleged domestic violence. \\nZach Smith\\'s attorney, Brad Koffel, told CNN in a statement: \"Zach Smith wants to be as transparent and honest as possible but it is not going to be done today through the media. It will only be after he and his ex-wife are sworn in to testify. Once he gets his chance to tell his side of events, don\\'t be surprised when it is corroborated by every police who ever responded to Ms. Smith\\'s calls.\"solution of this matter.\"'"
      ]
     },
     "execution_count": 50,
     "metadata": {},
     "output_type": "execute_result"
    }
   ],
   "source": [
    "f=open('c:/users/myles.akin/desktop/ohiostate.txt')\n",
    "text = f.read()\n",
    "text"
   ]
  },
  {
   "cell_type": "markdown",
   "metadata": {},
   "source": [
    "## Candidate Key Phrase Extraction"
   ]
  },
  {
   "cell_type": "code",
   "execution_count": 51,
   "metadata": {},
   "outputs": [],
   "source": [
    "import itertools, string\n",
    "from nltk.stem.porter import *\n",
    "\n",
    "#text = ' '.join(text)\n",
    "candidates = []\n",
    "stemmer=PorterStemmer()\n",
    "text = stemmer.stem(text)\n",
    "grammer = r'KT: {(<JJ>* <NN.*>+ <IN>)? <JJ>* <NN.*>+}'\n",
    "\n",
    "punct = set(string.punctuation)\n",
    "stop_words = set(nltk.corpus.stopwords.words('english'))\n",
    "chunker = nltk.chunk.regexp.RegexpParser(grammer)\n",
    "tagged_sents = nltk.pos_tag_sents(nltk.word_tokenize(sent) for sent in nltk.sent_tokenize(text))\n",
    "\n",
    "for i in range(len(tagged_sents)):\n",
    "    all_chunks = nltk.chunk.tree2conlltags(chunker.parse(tagged_sents[i]))\n",
    "    c = itertools.groupby(all_chunks, key = lambda x :x[2])\n",
    "    candid = [' '.join(x[0] for x in group) for key, group in itertools.groupby(all_chunks, lambda x : x[2] != 'O') if key]\n",
    "    candidates=candidates+candid"
   ]
  },
  {
   "cell_type": "code",
   "execution_count": 52,
   "metadata": {},
   "outputs": [
    {
     "data": {
      "text/plain": [
       "['zach smith',\n",
       " 'ex-wife',\n",
       " 'investigation',\n",
       " 'training camp with minimal distraction',\n",
       " 'coach',\n",
       " 'assistant coach zach smith',\n",
       " 'ryan day',\n",
       " 'july',\n",
       " 'big ten conference football media day',\n",
       " 'wife',\n",
       " 'police',\n",
       " 'ohio state',\n",
       " 'stadium',\n",
       " 'reat issue',\n",
       " 'calls',\n",
       " 'team',\n",
       " 'players',\n",
       " 'order',\n",
       " 'facebook post',\n",
       " 'little bit',\n",
       " 'side of events',\n",
       " 'decision',\n",
       " 'attorney',\n",
       " 'smith',\n",
       " 'i',\n",
       " 'inquiry',\n",
       " 'series of domestic violence allegations',\n",
       " 'today',\n",
       " 'matter',\n",
       " 'brad koffel',\n",
       " 'head football coach while meyer',\n",
       " 'domestic violence',\n",
       " 'honest',\n",
       " 'family',\n",
       " 'media',\n",
       " 'domestic violence allegations against zach smith',\n",
       " 'sports network',\n",
       " 'statement',\n",
       " 'chance',\n",
       " 'head football coach',\n",
       " 'urban meyer',\n",
       " 'offensive coordinator',\n",
       " 'group effort',\n",
       " 'feet',\n",
       " 'cnn',\n",
       " 'courtney smith',\n",
       " 'civil protection order on behalf',\n",
       " 'wide receivers',\n",
       " 'incident',\n",
       " 'zach',\n",
       " 'athletic director',\n",
       " 'meyer',\n",
       " 'leave',\n",
       " 'allegations',\n",
       " 'university',\n",
       " 'domestic violence allegations',\n",
       " 'shelley meyer',\n",
       " 'college football reporter brett mcmurphy',\n",
       " 'firing decision',\n",
       " 'anything',\n",
       " 'protection order',\n",
       " 'ohio state university',\n",
       " 'gene smith',\n",
       " 'solution',\n",
       " 'truth',\n",
       " 'smiths',\n",
       " 'relationship',\n",
       " 'day after smith',\n",
       " 'transparent',\n",
       " 'completion',\n",
       " 'administrative leave on wednesday',\n",
       " 'counseling']"
      ]
     },
     "execution_count": 52,
     "metadata": {},
     "output_type": "execute_result"
    }
   ],
   "source": [
    "candidates = list(set(candidates))\n",
    "candidates"
   ]
  },
  {
   "cell_type": "markdown",
   "metadata": {},
   "source": [
    "## Create Graph\n",
    "\n",
    "Vertices are candidate key phrases\n",
    "\n",
    "Edges are based on a distance measure of offset between key phrases with an addition term to rank a phrase higher if it is close to the beginning of the article"
   ]
  },
  {
   "cell_type": "code",
   "execution_count": 53,
   "metadata": {},
   "outputs": [
    {
     "name": "stderr",
     "output_type": "stream",
     "text": [
      "C:\\Users\\myles.akin\\AppData\\Local\\Continuum\\anaconda3\\lib\\site-packages\\ipykernel_launcher.py:30: RuntimeWarning: divide by zero encountered in long_scalars\n"
     ]
    }
   ],
   "source": [
    "import numpy as np\n",
    "\n",
    "\n",
    "cand = np.array(candidates)\n",
    "cand_set = set(candidates)\n",
    "A = np.zeros([len(cand), len(cand)])\n",
    "\n",
    "punct = string.punctuation\n",
    "punct = set(punct)\n",
    "punct.add('``')\n",
    "punct.add(\"''\")\n",
    "text = nltk.word_tokenize(text)\n",
    "text = ' '.join(text)\n",
    "#doc = [word for word in text if word not in punct]\n",
    "#doc=np.array(doc)\n",
    "i=0\n",
    "for word in cand:\n",
    "    words = nltk.word_tokenize(word)\n",
    "    start_d = [m.start() for m in re.finditer(word+' ', text)]#start_d = np.where(doc==words[0])[0]\n",
    "    end_d = [m.end() for m in re.finditer(word+' ', text)]#end_d = np.where(doc==words[-1])[0]\n",
    "    d_in=min(start_d)\n",
    "    j=0\n",
    "    for other in cand:\n",
    "        others = nltk.word_tokenize(other)\n",
    "        start_o = [m.end() for m in re.finditer(other+' ', text)]#start_o = np.where(doc==others[0])[0]\n",
    "        end_o = [m.end() for m in re.finditer(other+' ', text)]#np.where(doc==others[-1])[0]\n",
    "        d_st = np.abs([np.array(start_d)-end for end in end_o])\n",
    "        d_en = np.abs([np.array(end_d)-start for start in start_o])\n",
    "        d_tot = min(min(d_en[0]),min(d_st[0]))\n",
    "        A[i,j]=1/(d_tot)+1/(d_in+1)\n",
    "        if d_tot==0:\n",
    "            A[i,j]=0\n",
    "        j=j+1\n",
    "    i=i+1\n",
    "            "
   ]
  },
  {
   "cell_type": "markdown",
   "metadata": {},
   "source": [
    "## Key Phrase Rank\n",
    "\n",
    "This is based on the Google PageRank algorithm, see Newman 'Networks: and Introduction' for more information on this caculation"
   ]
  },
  {
   "cell_type": "code",
   "execution_count": 54,
   "metadata": {},
   "outputs": [
    {
     "name": "stdout",
     "output_type": "stream",
     "text": [
      "[  29.69418558   11.88589657    9.08697664    8.83516602   50.90333715\n",
      "   13.14805427    7.89153684    7.66689084    7.98419469   14.31025611\n",
      "    4.04846744 1099.99364988    4.83926086    5.66880487    5.09047401\n",
      "   13.00695461    6.30372888    8.18561064    4.78289633    7.63149782\n",
      "    5.0424583     6.09716428    5.39671196   34.04269483   11.86439899\n",
      "    5.70706447    5.66056386    4.05186665    5.85102888   13.48071081\n",
      "    7.42002493   22.22768711    8.18079936    6.13096662   10.69677982\n",
      "    7.01080602    8.30369641   12.43847424    4.05700332   42.30951321\n",
      "   36.28302386   11.63453281    4.62594079    4.45287595    6.68521512\n",
      "   32.4987442     7.93892608    5.87897067    7.18268949   37.58190307\n",
      "    6.4225296    48.78728046   23.49650247   17.70511634  100.15202509\n",
      "   17.89531255    4.15328986   12.72707794    4.5579471     4.27064047\n",
      "    8.48951459 1074.31356035    6.69122145    7.82965594    6.22309125\n",
      "    4.26127155    5.21140439    4.27869782    5.58445912    5.84964389\n",
      "   22.19355292    5.68782978]\n"
     ]
    }
   ],
   "source": [
    "l = A.shape[0]\n",
    "D = np.zeros([l,l])\n",
    "one = np.ones(l)\n",
    "for i in range(l):\n",
    "    D[i,i] = np.sum(A[i,:])\n",
    "    \n",
    "x =np.dot(np.dot(D,np.linalg.inv(D-0.85*A)),one)\n",
    "print(x)"
   ]
  },
  {
   "cell_type": "markdown",
   "metadata": {},
   "source": [
    "## Top 20 Ranked Phrases\n",
    "\n",
    "Not bad. I would like to find a way to combine phrases like \"ohio stat\" and \"ohio state university\" at some point."
   ]
  },
  {
   "cell_type": "code",
   "execution_count": 55,
   "metadata": {},
   "outputs": [
    {
     "name": "stdout",
     "output_type": "stream",
     "text": [
      "['ohio state']\n",
      "['ohio state university']\n",
      "['university']\n",
      "['coach']\n",
      "['meyer']\n",
      "['head football coach']\n",
      "['zach']\n",
      "['urban meyer']\n",
      "['smith']\n",
      "['courtney smith']\n",
      "['zach smith']\n",
      "['leave']\n",
      "['domestic violence']\n",
      "['administrative leave on wednesday']\n",
      "['domestic violence allegations']\n",
      "['allegations']\n",
      "['wife']\n",
      "['brad koffel']\n",
      "['assistant coach zach smith']\n",
      "['team']\n"
     ]
    }
   ],
   "source": [
    "x_sort = np.sort(x)\n",
    "for i in range(20):\n",
    "    j = np.where(x==x_sort[-(i+1)])[0]\n",
    "    print(cand[j])"
   ]
  },
  {
   "cell_type": "code",
   "execution_count": null,
   "metadata": {},
   "outputs": [],
   "source": []
  }
 ],
 "metadata": {
  "kernelspec": {
   "display_name": "Python 3",
   "language": "python",
   "name": "python3"
  },
  "language_info": {
   "codemirror_mode": {
    "name": "ipython",
    "version": 3
   },
   "file_extension": ".py",
   "mimetype": "text/x-python",
   "name": "python",
   "nbconvert_exporter": "python",
   "pygments_lexer": "ipython3",
   "version": "3.6.5"
  }
 },
 "nbformat": 4,
 "nbformat_minor": 2
}
